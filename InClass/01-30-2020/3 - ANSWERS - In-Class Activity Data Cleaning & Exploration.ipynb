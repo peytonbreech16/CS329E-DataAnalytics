{
 "cells": [
  {
   "cell_type": "markdown",
   "metadata": {},
   "source": [
    "## Data Cleaning & Exploration Activity"
   ]
  },
  {
   "cell_type": "markdown",
   "metadata": {},
   "source": [
    "## 1. Data Cleaning\n",
    "\n",
    "Poor data quality can have an adverse effect on data mining. Some common data quality issues include missing values, incorrectly formatted data, noise, outliers, and duplicate data. There could be many other data quality issues as well. Here, we will experiment with detecting and alleviating some of these data quality problems. "
   ]
  },
  {
   "cell_type": "markdown",
   "metadata": {},
   "source": [
    "### 1.1 Cleaning the CSV file\n",
    "For this particular dataset, because it is quite small, some of the data cleaning can be done \"by hand\" in the csv file.\n",
    "\n",
    "Open the csv file and take a look at it. Manually clean up some of the data. Things to consider:\n",
    "* Make sure all of the numeric columns contain only numbers. Check the 'Age', 'Miles from Austin', 'Number of shoes', and 'How much cash' columns. Make sure they are all in the same units. \n",
    "\n",
    "* Replace any missing or unknown values with a '?'.\n",
    "\n",
    "* Save your cleaned data file as a .csv (this makes things easier than an .xlsx file).\n"
   ]
  },
  {
   "cell_type": "markdown",
   "metadata": {},
   "source": [
    "### 1.2 Reading data from a CSV file\n",
    "Read the cleaned csv file into a Pandas dataframe. You can find more on reading csv data in to a Pandas dataframe [here](http://pandas.pydata.org/pandas-docs/stable/generated/pandas.read_csv.html).\n",
    "\n",
    "Documentation for Pandas DataFrames is [here](http://pandas.pydata.org/pandas-docs/stable/reference/frame.html)."
   ]
  },
  {
   "cell_type": "code",
   "execution_count": 22,
   "metadata": {
    "scrolled": false
   },
   "outputs": [
    {
     "name": "stdout",
     "output_type": "stream",
     "text": [
      "Shape =  (106, 14)\n"
     ]
    },
    {
     "data": {
      "text/html": [
       "<div>\n",
       "<style scoped>\n",
       "    .dataframe tbody tr th:only-of-type {\n",
       "        vertical-align: middle;\n",
       "    }\n",
       "\n",
       "    .dataframe tbody tr th {\n",
       "        vertical-align: top;\n",
       "    }\n",
       "\n",
       "    .dataframe thead th {\n",
       "        text-align: right;\n",
       "    }\n",
       "</style>\n",
       "<table border=\"1\" class=\"dataframe\">\n",
       "  <thead>\n",
       "    <tr style=\"text-align: right;\">\n",
       "      <th></th>\n",
       "      <th>How old are you?</th>\n",
       "      <th>What year are you in school?</th>\n",
       "      <th>What is your major?</th>\n",
       "      <th>What is your hometown?</th>\n",
       "      <th>How many miles is your hometown from Austin?</th>\n",
       "      <th>How tall are you in inches?</th>\n",
       "      <th>What is your favorite color?</th>\n",
       "      <th>How many pairs of shoes do you own?</th>\n",
       "      <th>How many MINUTES did you spend exercising yesterday?</th>\n",
       "      <th>How many MINUTES did you spend on the computer yesterday?</th>\n",
       "      <th>How many HOURS did you sleep last night?</th>\n",
       "      <th>How many siblings do you have?</th>\n",
       "      <th>How much cash do you have on you right now?</th>\n",
       "      <th>Did you eat breakfast this morning?</th>\n",
       "    </tr>\n",
       "  </thead>\n",
       "  <tbody>\n",
       "    <tr>\n",
       "      <th>0</th>\n",
       "      <td>21</td>\n",
       "      <td>Senior</td>\n",
       "      <td>Natural Sciences (&amp; Math) / Geosciences</td>\n",
       "      <td>Houston</td>\n",
       "      <td>140.0</td>\n",
       "      <td>61</td>\n",
       "      <td>Pink</td>\n",
       "      <td>8</td>\n",
       "      <td>0</td>\n",
       "      <td>500</td>\n",
       "      <td>8</td>\n",
       "      <td>1</td>\n",
       "      <td>200</td>\n",
       "      <td>no</td>\n",
       "    </tr>\n",
       "    <tr>\n",
       "      <th>1</th>\n",
       "      <td>22</td>\n",
       "      <td>Senior</td>\n",
       "      <td>Natural Sciences (&amp; Math) / Geosciences</td>\n",
       "      <td>Brownsville, TX</td>\n",
       "      <td>300.0</td>\n",
       "      <td>61</td>\n",
       "      <td>green</td>\n",
       "      <td>14</td>\n",
       "      <td>0</td>\n",
       "      <td>40</td>\n",
       "      <td>7</td>\n",
       "      <td>2</td>\n",
       "      <td>0</td>\n",
       "      <td>no</td>\n",
       "    </tr>\n",
       "    <tr>\n",
       "      <th>2</th>\n",
       "      <td>23</td>\n",
       "      <td>Super Senior</td>\n",
       "      <td>Natural Sciences (&amp; Math) / Geosciences</td>\n",
       "      <td>Boling, Texas</td>\n",
       "      <td>145.0</td>\n",
       "      <td>71</td>\n",
       "      <td>Green</td>\n",
       "      <td>6</td>\n",
       "      <td>45</td>\n",
       "      <td>180</td>\n",
       "      <td>7</td>\n",
       "      <td>1</td>\n",
       "      <td>2</td>\n",
       "      <td>no</td>\n",
       "    </tr>\n",
       "    <tr>\n",
       "      <th>3</th>\n",
       "      <td>22</td>\n",
       "      <td>Senior</td>\n",
       "      <td>Natural Sciences (&amp; Math) / Geosciences</td>\n",
       "      <td>Fügen, Austria</td>\n",
       "      <td>5521.0</td>\n",
       "      <td>65</td>\n",
       "      <td>Black</td>\n",
       "      <td>15</td>\n",
       "      <td>70</td>\n",
       "      <td>0</td>\n",
       "      <td>5</td>\n",
       "      <td>2</td>\n",
       "      <td>0</td>\n",
       "      <td>no</td>\n",
       "    </tr>\n",
       "    <tr>\n",
       "      <th>4</th>\n",
       "      <td>23</td>\n",
       "      <td>Super Senior</td>\n",
       "      <td>Fine Arts / Architecture</td>\n",
       "      <td>Dallas</td>\n",
       "      <td>180.0</td>\n",
       "      <td>69''</td>\n",
       "      <td>Purple</td>\n",
       "      <td>6</td>\n",
       "      <td>0</td>\n",
       "      <td>240</td>\n",
       "      <td>7</td>\n",
       "      <td>1</td>\n",
       "      <td>0</td>\n",
       "      <td>Yes</td>\n",
       "    </tr>\n",
       "  </tbody>\n",
       "</table>\n",
       "</div>"
      ],
      "text/plain": [
       "   How old are you? What year are you in school?  \\\n",
       "0                21                       Senior   \n",
       "1                22                       Senior   \n",
       "2                23                 Super Senior   \n",
       "3                22                       Senior   \n",
       "4                23                 Super Senior   \n",
       "\n",
       "                       What is your major? What is your hometown?  \\\n",
       "0  Natural Sciences (& Math) / Geosciences                Houston   \n",
       "1  Natural Sciences (& Math) / Geosciences        Brownsville, TX   \n",
       "2  Natural Sciences (& Math) / Geosciences          Boling, Texas   \n",
       "3  Natural Sciences (& Math) / Geosciences         Fügen, Austria   \n",
       "4                 Fine Arts / Architecture                 Dallas   \n",
       "\n",
       "   How many miles is your hometown from Austin? How tall are you in inches?  \\\n",
       "0                                         140.0                          61   \n",
       "1                                         300.0                          61   \n",
       "2                                         145.0                          71   \n",
       "3                                        5521.0                          65   \n",
       "4                                         180.0                        69''   \n",
       "\n",
       "  What is your favorite color? How many pairs of shoes do you own?  \\\n",
       "0                         Pink                                   8   \n",
       "1                        green                                  14   \n",
       "2                        Green                                   6   \n",
       "3                        Black                                  15   \n",
       "4                       Purple                                   6   \n",
       "\n",
       "   How many MINUTES did you spend exercising yesterday?  \\\n",
       "0                                                  0      \n",
       "1                                                  0      \n",
       "2                                                 45      \n",
       "3                                                 70      \n",
       "4                                                  0      \n",
       "\n",
       "   How many MINUTES did you spend on the computer yesterday?  \\\n",
       "0                                                500           \n",
       "1                                                 40           \n",
       "2                                                180           \n",
       "3                                                  0           \n",
       "4                                                240           \n",
       "\n",
       "  How many HOURS did you sleep last night? How many siblings do you have?  \\\n",
       "0                                        8                              1   \n",
       "1                                        7                              2   \n",
       "2                                        7                              1   \n",
       "3                                        5                              2   \n",
       "4                                        7                              1   \n",
       "\n",
       "  How much cash do you have on you right now?  \\\n",
       "0                                         200   \n",
       "1                                           0   \n",
       "2                                           2   \n",
       "3                                           0   \n",
       "4                                           0   \n",
       "\n",
       "  Did you eat breakfast this morning?  \n",
       "0                                  no  \n",
       "1                                  no  \n",
       "2                                  no  \n",
       "3                                  no  \n",
       "4                                 Yes  "
      ]
     },
     "execution_count": 22,
     "metadata": {},
     "output_type": "execute_result"
    }
   ],
   "source": [
    "import pandas as pd\n",
    "# Enable inline mode for matplotlib so that Jupyter displays graphs\n",
    "%matplotlib inline\n",
    "\n",
    "data = pd.read_csv('Data Gathering Survey Student Analysis Report (7) cleaned.csv')\n",
    "\n",
    "print(\"Shape = \", data.shape) #shows (number of rows, number of cols)\n",
    "data.head()"
   ]
  },
  {
   "cell_type": "markdown",
   "metadata": {},
   "source": [
    "### 1.3 Missing Values\n",
    "\n",
    "The missing values should now be encoded as '?'. \n",
    "\n",
    "* First, convert the missing values to NaNs. \n",
    "* Then, display the number of missing values in each column of the data."
   ]
  },
  {
   "cell_type": "code",
   "execution_count": 23,
   "metadata": {
    "scrolled": true
   },
   "outputs": [
    {
     "name": "stdout",
     "output_type": "stream",
     "text": [
      "\n",
      "Total num missing values: How old are you?                                             0\n",
      "What year are you in school?                                 0\n",
      "What is your major?                                          0\n",
      "What is your hometown?                                       0\n",
      "How many miles is your hometown from Austin?                 1\n",
      "How tall are you in inches?                                  0\n",
      "What is your favorite color?                                 0\n",
      "How many pairs of shoes do you own?                          2\n",
      "How many MINUTES did you spend exercising yesterday?         0\n",
      "How many MINUTES did you spend on the computer yesterday?    0\n",
      "How many HOURS did you sleep last night?                     0\n",
      "How many siblings do you have?                               0\n",
      "How much cash do you have on you right now?                  0\n",
      "Did you eat breakfast this morning?                          0\n",
      "dtype: int64\n"
     ]
    }
   ],
   "source": [
    "import numpy as np\n",
    "\n",
    "'''\n",
    "Note that 'replace' returns a NEW dataframe with the values replaced.\n",
    "If you want it to replace the values in your current dataframe, you will\n",
    "need to set inplace=True.\n",
    "'''\n",
    "data.replace('?', np.NaN, inplace=True)\n",
    "\n",
    "print(\"\\nTotal num missing values:\", data.isnull().sum())"
   ]
  },
  {
   "cell_type": "markdown",
   "metadata": {},
   "source": [
    "### 1.4 Imputation\n",
    "\n",
    "One option for handling missing values is to fill them in with a \"reasonable\" estimation. This is called **imputation**. Mean or median values are often used for imputation of numeric attributes. Mode could be used for categorical imputation. Or mabye there is another value that makes sense for the data, like 0. \n",
    "\n",
    "Replace any missing values in the age column with something reasonable.\n",
    "\n",
    "You will need to convert the data from strings to numeric values first. This line of code is provided for you."
   ]
  },
  {
   "cell_type": "code",
   "execution_count": 3,
   "metadata": {
    "scrolled": false
   },
   "outputs": [
    {
     "name": "stdout",
     "output_type": "stream",
     "text": [
      "mean= 10.163461538461538\n",
      "median= 7.0\n",
      "mode= 0    6.0\n",
      "dtype: float64\n"
     ]
    },
    {
     "data": {
      "text/html": [
       "<div>\n",
       "<style scoped>\n",
       "    .dataframe tbody tr th:only-of-type {\n",
       "        vertical-align: middle;\n",
       "    }\n",
       "\n",
       "    .dataframe tbody tr th {\n",
       "        vertical-align: top;\n",
       "    }\n",
       "\n",
       "    .dataframe thead th {\n",
       "        text-align: right;\n",
       "    }\n",
       "</style>\n",
       "<table border=\"1\" class=\"dataframe\">\n",
       "  <thead>\n",
       "    <tr style=\"text-align: right;\">\n",
       "      <th></th>\n",
       "      <th>How old are you?</th>\n",
       "      <th>What year are you in school?</th>\n",
       "      <th>What is your major?</th>\n",
       "      <th>What is your hometown?</th>\n",
       "      <th>How many miles is your hometown from Austin?</th>\n",
       "      <th>How tall are you in inches?</th>\n",
       "      <th>What is your favorite color?</th>\n",
       "      <th>How many pairs of shoes do you own?</th>\n",
       "      <th>How many MINUTES did you spend exercising yesterday?</th>\n",
       "      <th>How many MINUTES did you spend on the computer yesterday?</th>\n",
       "      <th>How many HOURS did you sleep last night?</th>\n",
       "      <th>How many siblings do you have?</th>\n",
       "      <th>How much cash do you have on you right now?</th>\n",
       "      <th>Did you eat breakfast this morning?</th>\n",
       "    </tr>\n",
       "  </thead>\n",
       "  <tbody>\n",
       "    <tr>\n",
       "      <th>0</th>\n",
       "      <td>21</td>\n",
       "      <td>Senior</td>\n",
       "      <td>Natural Sciences (&amp; Math) / Geosciences</td>\n",
       "      <td>Houston</td>\n",
       "      <td>140.0</td>\n",
       "      <td>61</td>\n",
       "      <td>Pink</td>\n",
       "      <td>8.0</td>\n",
       "      <td>0</td>\n",
       "      <td>500</td>\n",
       "      <td>8</td>\n",
       "      <td>1</td>\n",
       "      <td>200</td>\n",
       "      <td>no</td>\n",
       "    </tr>\n",
       "    <tr>\n",
       "      <th>1</th>\n",
       "      <td>22</td>\n",
       "      <td>Senior</td>\n",
       "      <td>Natural Sciences (&amp; Math) / Geosciences</td>\n",
       "      <td>Brownsville, TX</td>\n",
       "      <td>300.0</td>\n",
       "      <td>61</td>\n",
       "      <td>green</td>\n",
       "      <td>14.0</td>\n",
       "      <td>0</td>\n",
       "      <td>40</td>\n",
       "      <td>7</td>\n",
       "      <td>2</td>\n",
       "      <td>0</td>\n",
       "      <td>no</td>\n",
       "    </tr>\n",
       "    <tr>\n",
       "      <th>2</th>\n",
       "      <td>23</td>\n",
       "      <td>Super Senior</td>\n",
       "      <td>Natural Sciences (&amp; Math) / Geosciences</td>\n",
       "      <td>Boling, Texas</td>\n",
       "      <td>145.0</td>\n",
       "      <td>71</td>\n",
       "      <td>Green</td>\n",
       "      <td>6.0</td>\n",
       "      <td>45</td>\n",
       "      <td>180</td>\n",
       "      <td>7</td>\n",
       "      <td>1</td>\n",
       "      <td>2</td>\n",
       "      <td>no</td>\n",
       "    </tr>\n",
       "    <tr>\n",
       "      <th>3</th>\n",
       "      <td>22</td>\n",
       "      <td>Senior</td>\n",
       "      <td>Natural Sciences (&amp; Math) / Geosciences</td>\n",
       "      <td>Fügen, Austria</td>\n",
       "      <td>5521.0</td>\n",
       "      <td>65</td>\n",
       "      <td>Black</td>\n",
       "      <td>15.0</td>\n",
       "      <td>70</td>\n",
       "      <td>0</td>\n",
       "      <td>5</td>\n",
       "      <td>2</td>\n",
       "      <td>0</td>\n",
       "      <td>no</td>\n",
       "    </tr>\n",
       "    <tr>\n",
       "      <th>4</th>\n",
       "      <td>23</td>\n",
       "      <td>Super Senior</td>\n",
       "      <td>Fine Arts / Architecture</td>\n",
       "      <td>Dallas</td>\n",
       "      <td>180.0</td>\n",
       "      <td>69''</td>\n",
       "      <td>Purple</td>\n",
       "      <td>6.0</td>\n",
       "      <td>0</td>\n",
       "      <td>~240</td>\n",
       "      <td>7</td>\n",
       "      <td>1</td>\n",
       "      <td>0</td>\n",
       "      <td>Yes</td>\n",
       "    </tr>\n",
       "  </tbody>\n",
       "</table>\n",
       "</div>"
      ],
      "text/plain": [
       "   How old are you? What year are you in school?  \\\n",
       "0                21                       Senior   \n",
       "1                22                       Senior   \n",
       "2                23                 Super Senior   \n",
       "3                22                       Senior   \n",
       "4                23                 Super Senior   \n",
       "\n",
       "                       What is your major? What is your hometown?  \\\n",
       "0  Natural Sciences (& Math) / Geosciences                Houston   \n",
       "1  Natural Sciences (& Math) / Geosciences        Brownsville, TX   \n",
       "2  Natural Sciences (& Math) / Geosciences          Boling, Texas   \n",
       "3  Natural Sciences (& Math) / Geosciences         Fügen, Austria   \n",
       "4                 Fine Arts / Architecture                 Dallas   \n",
       "\n",
       "   How many miles is your hometown from Austin? How tall are you in inches?  \\\n",
       "0                                         140.0                          61   \n",
       "1                                         300.0                          61   \n",
       "2                                         145.0                          71   \n",
       "3                                        5521.0                          65   \n",
       "4                                         180.0                        69''   \n",
       "\n",
       "  What is your favorite color?  How many pairs of shoes do you own?  \\\n",
       "0                         Pink                                  8.0   \n",
       "1                        green                                 14.0   \n",
       "2                        Green                                  6.0   \n",
       "3                        Black                                 15.0   \n",
       "4                       Purple                                  6.0   \n",
       "\n",
       "  How many MINUTES did you spend exercising yesterday?  \\\n",
       "0                                                  0     \n",
       "1                                                  0     \n",
       "2                                                 45     \n",
       "3                                                 70     \n",
       "4                                                  0     \n",
       "\n",
       "  How many MINUTES did you spend on the computer yesterday?  \\\n",
       "0                                                500          \n",
       "1                                                 40          \n",
       "2                                                180          \n",
       "3                                                  0          \n",
       "4                                              ~240           \n",
       "\n",
       "  How many HOURS did you sleep last night? How many siblings do you have?  \\\n",
       "0                                        8                              1   \n",
       "1                                        7                              2   \n",
       "2                                        7                              1   \n",
       "3                                        5                              2   \n",
       "4                                        7                              1   \n",
       "\n",
       "  How much cash do you have on you right now?  \\\n",
       "0                                         200   \n",
       "1                                           0   \n",
       "2                                           2   \n",
       "3                                           0   \n",
       "4                                           0   \n",
       "\n",
       "  Did you eat breakfast this morning?  \n",
       "0                                  no  \n",
       "1                                  no  \n",
       "2                                  no  \n",
       "3                                  no  \n",
       "4                                 Yes  "
      ]
     },
     "execution_count": 3,
     "metadata": {},
     "output_type": "execute_result"
    }
   ],
   "source": [
    "# convert the column into numeric values first\n",
    "data['How many pairs of shoes do you own?'] = pd.to_numeric(data['How many pairs of shoes do you own?'])\n",
    "\n",
    "mean = data['How many pairs of shoes do you own?'].mean()\n",
    "print(\"mean=\", mean)\n",
    "med = data['How many pairs of shoes do you own?'].median()\n",
    "print(\"median=\", med)\n",
    "mode = data['How many pairs of shoes do you own?'].mode()\n",
    "print(\"mode=\", mode)\n",
    "\n",
    "# Could replace missing values with the mean, median, or the mode\n",
    "'''\n",
    "Just like 'replace', 'fillna' returns a NEW dataframe with the NA values replaced.\n",
    "If you want it to replace the NA values in your current dataframe, you will\n",
    "need to set inplace=True.\n",
    "'''\n",
    "data['How many pairs of shoes do you own?'].fillna(med, inplace=True)\n",
    "data.head()"
   ]
  },
  {
   "cell_type": "markdown",
   "metadata": {},
   "source": [
    "## 2. Exploratory Data Analysis (EDA)\n",
    "An important first step to every data analysis project is to explore your data. You need to have a good understanding of what is in your data. What are the ranges & distributions of the values, do you have any extreme values, are there any correlations between any of the features, etc. You just want to know and understand what you are working with."
   ]
  },
  {
   "cell_type": "markdown",
   "metadata": {},
   "source": [
    "### 2.1 Univariate Analysis: Explore the age feature\n",
    "* Display some measures of central tendency for age\n",
    "* Display some measures of dispersion for age\n",
    "* Show a distribution of this feature with either a plot or a table.\n",
    "* Are there any outliers? Show this with a plot."
   ]
  },
  {
   "cell_type": "code",
   "execution_count": 24,
   "metadata": {
    "scrolled": true
   },
   "outputs": [
    {
     "name": "stdout",
     "output_type": "stream",
     "text": [
      "count    106.000000\n",
      "mean      21.358491\n",
      "std        0.937968\n",
      "min       20.000000\n",
      "25%       21.000000\n",
      "50%       21.000000\n",
      "75%       22.000000\n",
      "max       24.000000\n",
      "Name: How old are you?, dtype: float64\n",
      "\n",
      "range: 4\n",
      "median: 21.0\n"
     ]
    }
   ],
   "source": [
    "# convert the column into numeric values first\n",
    "data['How old are you?'] = pd.to_numeric(data['How old are you?'])\n",
    "print(data['How old are you?'].describe())\n",
    "print()\n",
    "print(\"range:\", data['How old are you?'].max() - data['How old are you?'].min())\n",
    "print(\"median:\", data['How old are you?'].median())\n"
   ]
  },
  {
   "cell_type": "code",
   "execution_count": 6,
   "metadata": {},
   "outputs": [
    {
     "data": {
      "text/plain": [
       "21    46\n",
       "22    30\n",
       "20    18\n",
       "23    10\n",
       "24     2\n",
       "Name: How old are you?, dtype: int64"
      ]
     },
     "execution_count": 6,
     "metadata": {},
     "output_type": "execute_result"
    }
   ],
   "source": [
    "# distribution in table form\n",
    "data['How old are you?'].value_counts()"
   ]
  },
  {
   "cell_type": "code",
   "execution_count": 7,
   "metadata": {
    "scrolled": true
   },
   "outputs": [
    {
     "data": {
      "text/plain": [
       "<matplotlib.axes._subplots.AxesSubplot at 0x10dc8e048>"
      ]
     },
     "execution_count": 7,
     "metadata": {},
     "output_type": "execute_result"
    },
    {
     "data": {
      "image/png": "[encoded data removed]",
      "text/plain": [
       "<Figure size 432x288 with 1 Axes>"
      ]
     },
     "metadata": {},
     "output_type": "display_data"
    }
   ],
   "source": [
    "# distribution as a pie chart\n",
    "groups = data.groupby('How old are you?')\n",
    "groups.size().plot.pie()"
   ]
  },
  {
   "cell_type": "code",
   "execution_count": 8,
   "metadata": {},
   "outputs": [
    {
     "data": {
      "text/plain": [
       "<matplotlib.axes._subplots.AxesSubplot at 0x111dfdc18>"
      ]
     },
     "execution_count": 8,
     "metadata": {},
     "output_type": "execute_result"
    },
    {
     "data": {
      "image/png": "[encoded data removed]",
      "text/plain": [
       "<Figure size 432x288 with 1 Axes>"
      ]
     },
     "metadata": {},
     "output_type": "display_data"
    }
   ],
   "source": [
    "# distribution as a bar chart\n",
    "groups = data.groupby('How old are you?')\n",
    "groups.size().plot.bar()"
   ]
  },
  {
   "cell_type": "code",
   "execution_count": 9,
   "metadata": {
    "scrolled": true
   },
   "outputs": [
    {
     "data": {
      "text/plain": [
       "<matplotlib.axes._subplots.AxesSubplot at 0x119403128>"
      ]
     },
     "execution_count": 9,
     "metadata": {},
     "output_type": "execute_result"
    },
    {
     "data": {
      "image/png": "[encoded data removed]",
      "text/plain": [
       "<Figure size 432x288 with 1 Axes>"
      ]
     },
     "metadata": {},
     "output_type": "display_data"
    }
   ],
   "source": [
    "# show outliers with a boxplot\n",
    "data.boxplot(['How old are you?'])"
   ]
  },
  {
   "cell_type": "markdown",
   "metadata": {},
   "source": [
    "### 2.2 Bivariate Analysis: Correlate two features\n",
    "I suspect there may be a negative correlation between time spent on the computer and time spent exercising (the more time you spend on the computer, the less time you spend excercising). Let's examine the data to see if this is the case..."
   ]
  },
  {
   "cell_type": "markdown",
   "metadata": {},
   "source": [
    "Create a plot of computer time vs exercise time to see if you can visually see a correlation. Does there appear to be a correlation? Do there appear to be any bivariate outliers?"
   ]
  },
  {
   "cell_type": "code",
   "execution_count": 27,
   "metadata": {},
   "outputs": [
    {
     "data": {
      "text/plain": [
       "<matplotlib.axes._subplots.AxesSubplot at 0x119c85668>"
      ]
     },
     "execution_count": 27,
     "metadata": {},
     "output_type": "execute_result"
    },
    {
     "data": {
      "image/png": "[encoded data removed]",
      "text/plain": [
       "<Figure size 432x288 with 1 Axes>"
      ]
     },
     "metadata": {},
     "output_type": "display_data"
    }
   ],
   "source": [
    "data.plot.scatter('How many MINUTES did you spend exercising yesterday?',\n",
    "                  'How many MINUTES did you spend on the computer yesterday?')"
   ]
  },
  {
   "cell_type": "markdown",
   "metadata": {},
   "source": [
    "### 2.3 Keep Exploring...\n",
    "Continue to explore the data. See if you can find anything interesting!"
   ]
  },
  {
   "cell_type": "code",
   "execution_count": null,
   "metadata": {},
   "outputs": [],
   "source": [
    "'''\n",
    "Things you could try:\n",
    "\n",
    "- Pie chart or bar chart of majors, or favorite colors\n",
    "\n",
    "- Distribution of 'miles from home', or height, or num shoes, or cash, etc.\n",
    "- Any outliers? How much do outliers skew the mean?\n",
    "\n",
    "- Correlation between cash & num shoes\n",
    "- Correlation between amt of sleep & eating breakfast\n",
    "- Correlation between amt of sleep & computer time\n",
    "\n",
    "'''"
   ]
  },
  {
   "cell_type": "code",
   "execution_count": 11,
   "metadata": {},
   "outputs": [
    {
     "data": {
      "text/plain": [
       "<matplotlib.axes._subplots.AxesSubplot at 0x1195bb7b8>"
      ]
     },
     "execution_count": 11,
     "metadata": {},
     "output_type": "execute_result"
    },
    {
     "data": {
      "image/png": "[encoded data removed]",
      "text/plain": [
       "<Figure size 432x288 with 1 Axes>"
      ]
     },
     "metadata": {},
     "output_type": "display_data"
    }
   ],
   "source": [
    "# majors as a pie chart\n",
    "groups = data.groupby('What is your major?')\n",
    "groups.size().plot.pie()"
   ]
  },
  {
   "cell_type": "code",
   "execution_count": 12,
   "metadata": {},
   "outputs": [
    {
     "data": {
      "text/plain": [
       "<matplotlib.axes._subplots.AxesSubplot at 0x119714cc0>"
      ]
     },
     "execution_count": 12,
     "metadata": {},
     "output_type": "execute_result"
    },
    {
     "data": {
      "image/png": "[encoded data removed]",
      "text/plain": [
       "<Figure size 432x288 with 1 Axes>"
      ]
     },
     "metadata": {},
     "output_type": "display_data"
    }
   ],
   "source": [
    "# majors as a bar chart\n",
    "groups = data.groupby('What is your major?')\n",
    "groups.size().plot.bar()"
   ]
  },
  {
   "cell_type": "code",
   "execution_count": 13,
   "metadata": {},
   "outputs": [
    {
     "data": {
      "text/plain": [
       "Natural Sciences (& Math) / Geosciences    48\n",
       "Business                                   19\n",
       "Engineering                                16\n",
       "Liberal Arts                               14\n",
       "Fine Arts / Architecture                    6\n",
       "Communication                               2\n",
       "Education                                   1\n",
       "Name: What is your major?, dtype: int64"
      ]
     },
     "execution_count": 13,
     "metadata": {},
     "output_type": "execute_result"
    }
   ],
   "source": [
    "# majors by count\n",
    "data['What is your major?'].value_counts()"
   ]
  },
  {
   "cell_type": "code",
   "execution_count": 14,
   "metadata": {},
   "outputs": [
    {
     "data": {
      "text/plain": [
       "<matplotlib.axes._subplots.AxesSubplot at 0x1197e9b00>"
      ]
     },
     "execution_count": 14,
     "metadata": {},
     "output_type": "execute_result"
    },
    {
     "data": {
      "image/png": "[encoded data removed]",
      "text/plain": [
       "<Figure size 432x288 with 1 Axes>"
      ]
     },
     "metadata": {},
     "output_type": "display_data"
    }
   ],
   "source": [
    "# boxplot of 'miles from home'\n",
    "data['How many miles is your hometown from Austin?'] = pd.to_numeric(data['How many miles is your hometown from Austin?'])\n",
    "data['How many miles is your hometown from Austin?'].plot(kind=\"box\")"
   ]
  },
  {
   "cell_type": "code",
   "execution_count": 35,
   "metadata": {},
   "outputs": [
    {
     "data": {
      "text/plain": [
       "(-1, 1]          11\n",
       "(1, 50]           5\n",
       "(50, 100]         7\n",
       "(100, 500]       59\n",
       "(500, 2500]      13\n",
       "(2500, 10000]    10\n",
       "Name: How many miles is your hometown from Austin?, dtype: int64"
      ]
     },
     "execution_count": 35,
     "metadata": {},
     "output_type": "execute_result"
    }
   ],
   "source": [
    "# there are too many unique values, so\n",
    "# put distance from home into bins\n",
    "bins = [-1, 1, 50, 100, 500, 2500, 10000]\n",
    "binned = pd.cut(data['How many miles is your hometown from Austin?'], bins)\n",
    "\n",
    "# sort=False keeps things ordered by bins, rather than ordering by highest count to lowest count\n",
    "counts = binned.value_counts(sort=False)\n",
    "counts"
   ]
  },
  {
   "cell_type": "code",
   "execution_count": 36,
   "metadata": {},
   "outputs": [
    {
     "data": {
      "text/plain": [
       "<matplotlib.axes._subplots.AxesSubplot at 0x119f3c748>"
      ]
     },
     "execution_count": 36,
     "metadata": {},
     "output_type": "execute_result"
    },
    {
     "data": {
      "image/png": "[encoded data removed]",
      "text/plain": [
       "<Figure size 432x288 with 1 Axes>"
      ]
     },
     "metadata": {},
     "output_type": "display_data"
    }
   ],
   "source": [
    "# bar chart of how far people are from their hometown\n",
    "counts.plot(kind='bar')"
   ]
  },
  {
   "cell_type": "code",
   "execution_count": null,
   "metadata": {},
   "outputs": [],
   "source": []
  }
 ],
 "metadata": {
  "kernelspec": {
   "display_name": "Python 3",
   "language": "python",
   "name": "python3"
  },
  "language_info": {
   "codemirror_mode": {
    "name": "ipython",
    "version": 3
   },
   "file_extension": ".py",
   "mimetype": "text/x-python",
   "name": "python",
   "nbconvert_exporter": "python",
   "pygments_lexer": "ipython3",
   "version": "3.7.4"
  }
 },
 "nbformat": 4,
 "nbformat_minor": 2
}
